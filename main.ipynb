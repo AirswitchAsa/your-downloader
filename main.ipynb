{
 "cells": [
  {
   "cell_type": "code",
   "execution_count": 2,
   "metadata": {},
   "outputs": [
    {
     "name": "stdout",
     "output_type": "stream",
     "text": [
      "Downloading videos ...\n",
      "Download completed for video 7OzZqcI2z1c\n"
     ]
    }
   ],
   "source": [
    "from pytube import YouTube\n",
    "\n",
    "def download(link: str):\n",
    "    # Creating a YouTube object\n",
    "    yt = YouTube(link)\n",
    "\n",
    "    # Getting the highest resolution stream of the video\n",
    "    ys = yt.streams.get_highest_resolution()\n",
    "\n",
    "    # Downloading the video\n",
    "    id = link.split('v=')[1]\n",
    "    video_path = ys.download(output_path='./videos')  # You can specify a download path here\n",
    "    \n",
    "    print(\"Download completed for video \" + id)\n",
    "    return video_path\n",
    "\n",
    "def download_from_list(links: list):\n",
    "    print('Downloading videos ...')\n",
    "    for link in links:\n",
    "        download(link)\n",
    "\n",
    "links_file = open('youtube.links', 'r')\n",
    "links = [line.strip() for line in links_file.readlines()]\n",
    "links_file.close()\n",
    "download_from_list(links)"
   ]
  }
 ],
 "metadata": {
  "kernelspec": {
   "display_name": "Python 3",
   "language": "python",
   "name": "python3"
  },
  "language_info": {
   "codemirror_mode": {
    "name": "ipython",
    "version": 3
   },
   "file_extension": ".py",
   "mimetype": "text/x-python",
   "name": "python",
   "nbconvert_exporter": "python",
   "pygments_lexer": "ipython3",
   "version": "3.11.1"
  }
 },
 "nbformat": 4,
 "nbformat_minor": 2
}
